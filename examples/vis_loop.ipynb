{
 "cells": [
  {
   "cell_type": "code",
   "execution_count": 2,
   "metadata": {},
   "outputs": [
    {
     "name": "stderr",
     "output_type": "stream",
     "text": [
      "/opt/miniconda3/envs/gui/lib/python3.9/site-packages/tqdm/auto.py:21: TqdmWarning: IProgress not found. Please update jupyter and ipywidgets. See https://ipywidgets.readthedocs.io/en/stable/user_install.html\n",
      "  from .autonotebook import tqdm as notebook_tqdm\n",
      "<frozen importlib._bootstrap>:228: RuntimeWarning: scipy._lib.messagestream.MessageStream size changed, may indicate binary incompatibility. Expected 56 from C header, got 64 from PyObject\n"
     ]
    }
   ],
   "source": [
    "import torch  \n",
    "import open3d  \n",
    "from einops import rearrange \n",
    "import numpy as np \n",
    "import pandas as pd "
   ]
  },
  {
   "cell_type": "code",
   "execution_count": 17,
   "metadata": {},
   "outputs": [],
   "source": [
    "data = np.load(f'/Users/lxy/Gitlab/smplx/results/demo00365/smplx_ema_splits_merged/time_step_004.npz')"
   ]
  },
  {
   "cell_type": "code",
   "execution_count": 18,
   "metadata": {},
   "outputs": [
    {
     "name": "stdout",
     "output_type": "stream",
     "text": [
      "global_orient\n",
      "(1, 3)\n",
      "body_pose\n",
      "(21, 3)\n",
      "left_hand_pose\n",
      "(15, 3)\n",
      "right_hand_pose\n",
      "(15, 3)\n",
      "jaw_pose\n",
      "(1, 3)\n",
      "leye_pose\n",
      "(1, 3)\n",
      "reye_pose\n",
      "(1, 3)\n",
      "betas\n",
      "(1, 10)\n",
      "expression\n",
      "(1, 10)\n",
      "transl\n",
      "(1, 3)\n"
     ]
    }
   ],
   "source": [
    "for k, v in data.items():  \n",
    "    print(k)  \n",
    "    print(v.shape)\n",
    "    # T, d1, d2 = v.shape \n",
    "    # print(T) \n",
    "    # print(d1) \n",
    "    # print(d2)  \n",
    "\n",
    "    # if k == 'transl':  \n",
    "    #     print(v)"
   ]
  }
 ],
 "metadata": {
  "kernelspec": {
   "display_name": "gui",
   "language": "python",
   "name": "python3"
  },
  "language_info": {
   "codemirror_mode": {
    "name": "ipython",
    "version": 3
   },
   "file_extension": ".py",
   "mimetype": "text/x-python",
   "name": "python",
   "nbconvert_exporter": "python",
   "pygments_lexer": "ipython3",
   "version": "3.9.18"
  }
 },
 "nbformat": 4,
 "nbformat_minor": 2
}
